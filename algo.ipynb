{
 "cells": [
  {
   "cell_type": "code",
   "execution_count": null,
   "metadata": {},
   "outputs": [],
   "source": [
    "class Employee:\n",
    "    def __init__(self, db_record):\n",
    "        self.id = db_record['id']\n",
    "        self.position = db_record['position']\n",
    "        self.skills = set()  # 从employee_skills加载\n",
    "        self.preferences = {\n",
    "            'workdays': (db_record['workdays_start'], db_record['workdays_end']),\n",
    "            'shift_times': (db_record['shift_time_start'], db_record['shift_time_end']),\n",
    "            'max_daily': db_record['max_hours_per_day'],\n",
    "            'max_weekly': db_record['max_hours_per_week']\n",
    "        }\n",
    "        self.assigned_shifts = []  # 已分配的班次对象\n",
    "\n",
    "class Shift:\n",
    "    def __init__(self, db_record):\n",
    "        self.id = db_record['id']\n",
    "        self.start = db_record['start_time']\n",
    "        self.end = db_record['end_time']\n",
    "        self.required_position = db_record['required_position']\n",
    "        self.required_skill = db_record['required_skill_id']\n",
    "        self.min_employees = db_record['min_employees']\n",
    "        self.assigned = []  # 当前分配的员工ID列表"
   ]
  },
  {
   "cell_type": "code",
   "execution_count": null,
   "metadata": {},
   "outputs": [],
   "source": []
  }
 ],
 "metadata": {
  "kernelspec": {
   "display_name": "Python 3",
   "language": "python",
   "name": "python3"
  },
  "language_info": {
   "name": "python",
   "version": "3.11.11"
  }
 },
 "nbformat": 4,
 "nbformat_minor": 2
}
